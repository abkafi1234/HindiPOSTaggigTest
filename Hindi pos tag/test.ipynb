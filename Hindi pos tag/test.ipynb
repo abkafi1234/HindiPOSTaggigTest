{
 "cells": [
  {
   "cell_type": "code",
   "execution_count": 1,
   "id": "7651f5f3",
   "metadata": {},
   "outputs": [
    {
     "name": "stderr",
     "output_type": "stream",
     "text": [
      "/home/kafi/miniforge3/envs/test/lib/python3.13/site-packages/tqdm/auto.py:21: TqdmWarning: IProgress not found. Please update jupyter and ipywidgets. See https://ipywidgets.readthedocs.io/en/stable/user_install.html\n",
      "  from .autonotebook import tqdm as notebook_tqdm\n"
     ]
    }
   ],
   "source": [
    "from lowresnltk import POSTagger"
   ]
  },
  {
   "cell_type": "code",
   "execution_count": 8,
   "id": "ba5b4dfa",
   "metadata": {},
   "outputs": [],
   "source": [
    "import pandas as pd\n",
    "import ast\n",
    "data = pd.read_csv('./train_data.csv')"
   ]
  },
  {
   "cell_type": "code",
   "execution_count": 12,
   "id": "676cf7fe",
   "metadata": {},
   "outputs": [],
   "source": [
    "from sklearn.model_selection import train_test_split\n",
    "train_data, test_data = train_test_split(data, test_size=0.2, random_state=42)"
   ]
  },
  {
   "cell_type": "code",
   "execution_count": null,
   "id": "e7cfbc1b",
   "metadata": {},
   "outputs": [
    {
     "name": "stderr",
     "output_type": "stream",
     "text": [
      "Some weights of ElectraForTokenClassification were not initialized from the model checkpoint at csebuetnlp/banglabert and are newly initialized: ['classifier.bias', 'classifier.weight']\n",
      "You should probably TRAIN this model on a down-stream task to be able to use it for predictions and inference.\n"
     ]
    }
   ],
   "source": [
    "pos = POSTagger(train_data, max_length=100)"
   ]
  },
  {
   "cell_type": "code",
   "execution_count": 29,
   "id": "f693e6b9",
   "metadata": {},
   "outputs": [
    {
     "data": {
      "text/html": [
       "\n",
       "    <div>\n",
       "      \n",
       "      <progress value='11970' max='11970' style='width:300px; height:20px; vertical-align: middle;'></progress>\n",
       "      [11970/11970 14:02, Epoch 10/10]\n",
       "    </div>\n",
       "    <table border=\"1\" class=\"dataframe\">\n",
       "  <thead>\n",
       " <tr style=\"text-align: left;\">\n",
       "      <th>Epoch</th>\n",
       "      <th>Training Loss</th>\n",
       "      <th>Validation Loss</th>\n",
       "    </tr>\n",
       "  </thead>\n",
       "  <tbody>\n",
       "    <tr>\n",
       "      <td>1</td>\n",
       "      <td>0.376600</td>\n",
       "      <td>0.446964</td>\n",
       "    </tr>\n",
       "    <tr>\n",
       "      <td>2</td>\n",
       "      <td>0.349900</td>\n",
       "      <td>0.404607</td>\n",
       "    </tr>\n",
       "    <tr>\n",
       "      <td>3</td>\n",
       "      <td>0.337000</td>\n",
       "      <td>0.384174</td>\n",
       "    </tr>\n",
       "    <tr>\n",
       "      <td>4</td>\n",
       "      <td>0.286800</td>\n",
       "      <td>0.397614</td>\n",
       "    </tr>\n",
       "    <tr>\n",
       "      <td>5</td>\n",
       "      <td>0.245000</td>\n",
       "      <td>0.394298</td>\n",
       "    </tr>\n",
       "    <tr>\n",
       "      <td>6</td>\n",
       "      <td>0.210200</td>\n",
       "      <td>0.409280</td>\n",
       "    </tr>\n",
       "    <tr>\n",
       "      <td>7</td>\n",
       "      <td>0.180000</td>\n",
       "      <td>0.424907</td>\n",
       "    </tr>\n",
       "    <tr>\n",
       "      <td>8</td>\n",
       "      <td>0.153600</td>\n",
       "      <td>0.449920</td>\n",
       "    </tr>\n",
       "    <tr>\n",
       "      <td>9</td>\n",
       "      <td>0.127300</td>\n",
       "      <td>0.462909</td>\n",
       "    </tr>\n",
       "    <tr>\n",
       "      <td>10</td>\n",
       "      <td>0.111400</td>\n",
       "      <td>0.470238</td>\n",
       "    </tr>\n",
       "  </tbody>\n",
       "</table><p>"
      ],
      "text/plain": [
       "<IPython.core.display.HTML object>"
      ]
     },
     "metadata": {},
     "output_type": "display_data"
    },
    {
     "data": {
      "text/html": [
       "\n",
       "    <div>\n",
       "      \n",
       "      <progress value='300' max='300' style='width:300px; height:20px; vertical-align: middle;'></progress>\n",
       "      [300/300 00:04]\n",
       "    </div>\n",
       "    "
      ],
      "text/plain": [
       "<IPython.core.display.HTML object>"
      ]
     },
     "metadata": {},
     "output_type": "display_data"
    },
    {
     "name": "stdout",
     "output_type": "stream",
     "text": [
      "POS Tagging Evaluation: {'eval_loss': 0.47023820877075195, 'eval_runtime': 4.5029, 'eval_samples_per_second': 531.658, 'eval_steps_per_second': 66.624, 'epoch': 10.0}\n"
     ]
    }
   ],
   "source": [
    "pos.train(epochs=10)"
   ]
  },
  {
   "cell_type": "code",
   "execution_count": 24,
   "id": "1541bae1",
   "metadata": {},
   "outputs": [
    {
     "data": {
      "text/html": [
       "<div>\n",
       "<style scoped>\n",
       "    .dataframe tbody tr th:only-of-type {\n",
       "        vertical-align: middle;\n",
       "    }\n",
       "\n",
       "    .dataframe tbody tr th {\n",
       "        vertical-align: top;\n",
       "    }\n",
       "\n",
       "    .dataframe thead th {\n",
       "        text-align: right;\n",
       "    }\n",
       "</style>\n",
       "<table border=\"1\" class=\"dataframe\">\n",
       "  <thead>\n",
       "    <tr style=\"text-align: right;\">\n",
       "      <th></th>\n",
       "      <th>Words</th>\n",
       "      <th>POS</th>\n",
       "    </tr>\n",
       "  </thead>\n",
       "  <tbody>\n",
       "    <tr>\n",
       "      <th>12669</th>\n",
       "      <td>['लंदन', 'से', 'प्रकाशित', \"'\", 'दि', 'संडे', ...</td>\n",
       "      <td>['NNP', 'PSP', 'JJ', 'SYM', 'NNP', 'NNP', 'NNP...</td>\n",
       "    </tr>\n",
       "    <tr>\n",
       "      <th>5369</th>\n",
       "      <td>['शोम', 'ने', 'कहा', 'कि', 'एफबीटी', 'के', 'तह...</td>\n",
       "      <td>['NNP', 'PSP', 'VM', 'CC', 'NNP', 'PSP', 'PSP'...</td>\n",
       "    </tr>\n",
       "    <tr>\n",
       "      <th>3059</th>\n",
       "      <td>['अमेरिकी', 'सरकार', 'ने', 'यह', 'पाबंदी', 'बु...</td>\n",
       "      <td>['NNP', 'NNP', 'PSP', 'PRP', 'NN', 'NNP', 'PSP...</td>\n",
       "    </tr>\n",
       "    <tr>\n",
       "      <th>9755</th>\n",
       "      <td>['इसके', 'मद्देनजर', 'संशोधित', 'तपेदिक', 'निय...</td>\n",
       "      <td>['PRP', 'PSP', 'JJ', 'NNP', 'NNP', 'NNP', 'PSP...</td>\n",
       "    </tr>\n",
       "    <tr>\n",
       "      <th>14300</th>\n",
       "      <td>['अधिसूचना', 'के', 'मुताबिक', '१८', 'मीटर', 'व...</td>\n",
       "      <td>['NN', 'PSP', 'PSP', 'QC', 'NN', 'PSP', 'NN', ...</td>\n",
       "    </tr>\n",
       "  </tbody>\n",
       "</table>\n",
       "</div>"
      ],
      "text/plain": [
       "                                                   Words  \\\n",
       "12669  ['लंदन', 'से', 'प्रकाशित', \"'\", 'दि', 'संडे', ...   \n",
       "5369   ['शोम', 'ने', 'कहा', 'कि', 'एफबीटी', 'के', 'तह...   \n",
       "3059   ['अमेरिकी', 'सरकार', 'ने', 'यह', 'पाबंदी', 'बु...   \n",
       "9755   ['इसके', 'मद्देनजर', 'संशोधित', 'तपेदिक', 'निय...   \n",
       "14300  ['अधिसूचना', 'के', 'मुताबिक', '१८', 'मीटर', 'व...   \n",
       "\n",
       "                                                     POS  \n",
       "12669  ['NNP', 'PSP', 'JJ', 'SYM', 'NNP', 'NNP', 'NNP...  \n",
       "5369   ['NNP', 'PSP', 'VM', 'CC', 'NNP', 'PSP', 'PSP'...  \n",
       "3059   ['NNP', 'NNP', 'PSP', 'PRP', 'NN', 'NNP', 'PSP...  \n",
       "9755   ['PRP', 'PSP', 'JJ', 'NNP', 'NNP', 'NNP', 'PSP...  \n",
       "14300  ['NN', 'PSP', 'PSP', 'QC', 'NN', 'PSP', 'NN', ...  "
      ]
     },
     "execution_count": 24,
     "metadata": {},
     "output_type": "execute_result"
    }
   ],
   "source": [
    "test_data.head()"
   ]
  },
  {
   "cell_type": "code",
   "execution_count": 39,
   "id": "fb0b62e8",
   "metadata": {},
   "outputs": [
    {
     "name": "stdout",
     "output_type": "stream",
     "text": [
      "Accuracy: 87.95%\n"
     ]
    }
   ],
   "source": [
    "right = 0\n",
    "wrong = 0\n",
    "for i,row in test_data.iterrows():\n",
    "    tokens = ast.literal_eval(row['Words'])\n",
    "    tags = pos.predict(tokens)\n",
    "    real_pos = ast.literal_eval(row['POS'])\n",
    "    for i in range(len(tags)):\n",
    "        # print(tags[i], real_pos[i])\n",
    "        if tags[i] == real_pos[i]:\n",
    "            right += 1\n",
    "        else:\n",
    "            wrong += 1\n",
    "print(f\"Accuracy: {right / (right + wrong) * 100:.2f}%\")"
   ]
  },
  {
   "cell_type": "code",
   "execution_count": 33,
   "id": "33314461",
   "metadata": {},
   "outputs": [
    {
     "name": "stdout",
     "output_type": "stream",
     "text": [
      "0 2993\n"
     ]
    }
   ],
   "source": [
    "print(right, wrong)"
   ]
  },
  {
   "cell_type": "code",
   "execution_count": null,
   "id": "b16c811e",
   "metadata": {},
   "outputs": [],
   "source": []
  }
 ],
 "metadata": {
  "kernelspec": {
   "display_name": "test",
   "language": "python",
   "name": "python3"
  },
  "language_info": {
   "codemirror_mode": {
    "name": "ipython",
    "version": 3
   },
   "file_extension": ".py",
   "mimetype": "text/x-python",
   "name": "python",
   "nbconvert_exporter": "python",
   "pygments_lexer": "ipython3",
   "version": "3.13.3"
  }
 },
 "nbformat": 4,
 "nbformat_minor": 5
}
