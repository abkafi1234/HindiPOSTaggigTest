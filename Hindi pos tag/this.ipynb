{
 "cells": [
  {
   "cell_type": "code",
   "execution_count": null,
   "id": "1a58d8a1",
   "metadata": {},
   "outputs": [],
   "source": [
    "# Replace 'filename.txt' with your actual file name\n",
    "with open('./train_data.txt', 'r') as file:\n",
    "    dictionary = {'Sentence': [], 'POS': []}\n",
    "    for line in file:\n",
    "        sentence = []\n",
    "        tags = []\n",
    "        for word_pair in line.strip().split():\n",
    "                if '/' in word_pair:\n",
    "                    word, tag = word_pair.rsplit('/', 1)  # Use rsplit in case the word itself contains '/'\n",
    "                    sentence.append(word)\n",
    "                    tags.append(tag)\n",
    "                \n",
    "        dictionary['Sentence'].append(sentence)\n",
    "        dictionary['POS'].append(tags)"
   ]
  },
  {
   "cell_type": "code",
   "execution_count": null,
   "id": "d6b71da5",
   "metadata": {},
   "outputs": [],
   "source": [
    "import pandas as pd\n",
    "df = pd.DataFrame(dictionary)\n",
    "df.head()"
   ]
  },
  {
   "cell_type": "code",
   "execution_count": null,
   "id": "e48556f8",
   "metadata": {},
   "outputs": [],
   "source": [
    "df.to_csv(index=False, path_or_buf='./train_data.csv')"
   ]
  },
  {
   "cell_type": "code",
   "execution_count": null,
   "id": "72e4883a",
   "metadata": {},
   "outputs": [],
   "source": []
  }
 ],
 "metadata": {
  "kernelspec": {
   "display_name": "stemming",
   "language": "python",
   "name": "python3"
  },
  "language_info": {
   "codemirror_mode": {
    "name": "ipython",
    "version": 3
   },
   "file_extension": ".py",
   "mimetype": "text/x-python",
   "name": "python",
   "nbconvert_exporter": "python",
   "pygments_lexer": "ipython3",
   "version": "3.10.16"
  }
 },
 "nbformat": 4,
 "nbformat_minor": 5
}
